{
 "cells": [
  {
   "cell_type": "markdown",
   "id": "3e2f7df9",
   "metadata": {
    "slideshow": {
     "slide_type": "slide"
    }
   },
   "source": [
    "<body>\n",
    "    <h1><font color='#0EA9A9'><center>BDAT 1004 - Problem Set 1</center></font></h1>\n",
    "    <p>\n",
    "        <strong>Student:</strong> Lais Assini Cavalheiro<br>\n",
    "        <strong>Student ID:</strong> 20558473<br><br>\n",
    "        <em>Note: Here you have only the C# questions. The Python part is in another notebook.</em>\n",
    "    </p>\n",
    "</body>"
   ]
  },
  {
   "cell_type": "markdown",
   "id": "51466ed4",
   "metadata": {
    "slideshow": {
     "slide_type": "slide"
    }
   },
   "source": [
    "<body>\n",
    "    <h3><font color='#0EA9A9'>Question 1 C#</font></h3>\n",
    "    <p></p>\n",
    "        <strong>What data type is each of the following?</strong><br>\n",
    "    <ul>\n",
    "        <li>5: <font color= '#DD8300'><ins>int - integer</ins></font></li>\n",
    "        <li>5.0: <font color= '#DD8300'><ins>Floating point number or decimal</ins></font></li>\n",
    "        <li>5 > 1: <font color= '#DD8300'><ins>Comparison operator (Greater than) - boolean value</ins></font></li>\n",
    "        <li>'5': <font color= '#DD8300'><ins>str - string</ins></font></li>\n",
    "        <li>5 * 2: <font color= '#DD8300'><ins>Arithmetic operator (multiplication)</ins></font></li>\n",
    "        <li>'5' * 2: <font color= '#DD8300'><ins>Arithmetic operation (multiplication) between the ASCII value of the str '5' and an int</ins></font></li>\n",
    "        <li>'5' + '2': <font color= '#DD8300'><ins>Arithmetic operation (addition) between the ASCII value of the str '5' and the ASCII value of the str '2'</ins></font></li>\n",
    "        <li>5 / 2: <font color= '#DD8300'><ins>Arithmetic operator (division)</ins></font></li>\n",
    "        <li>5 % 2: <font color= '#DD8300'><ins>Arithmetic operator (modulus - gets the remainder)</ins></font></li>\n",
    "        <li>{5, 2, 1}: <font color= '#DD8300'><ins>Array</ins></font></li>\n",
    "        <li>5 == 3: <font color= '#DD8300'><ins>Comparison operation (equal to) - boolean value</ins></font></li>\n",
    "        <li>Pi (the number): <font color= '#DD8300'><ins>Method</ins></font></li>\n",
    "    </ul>\n",
    "</body>\n",
    "\n",
    "    "
   ]
  },
  {
   "cell_type": "markdown",
   "id": "44fccc96",
   "metadata": {
    "slideshow": {
     "slide_type": "slide"
    }
   },
   "source": [
    "<body>\n",
    "    <h3><font color= '#0EA9A9'> Question 2 C#</font></h3>\n",
    "    <p></p>\n",
    "        <strong>Write (and evaluate) C# expressions that answer these questions:</strong><br>  \n",
    "    <ol>\n",
    "        <li>How many letters are there in 'Supercalifragilisticexpialidocious'?</li>\n",
    "        <li>Does 'Supercalifragilisticexpialidocious' contain 'ice' as a substring?</li>\n",
    "        <li>Which of the following words is the longest: Supercalifragilisticexpialidocious, Honorificabilitudinitatibus,  or Bababadalgharaghtakamminarronnkonn?</li>\n",
    "        <li>Which composer comes first in the dictionary: 'Berlioz', 'Borodin', 'Brian', 'Bartok', 'Bellini', 'Buxtehude', 'Bernstein'. Which one comes last?</li>\n",
    "    </ol>"
   ]
  },
  {
   "cell_type": "code",
   "execution_count": 29,
   "id": "7a44a356",
   "metadata": {
    "slideshow": {
     "slide_type": "fragment"
    }
   },
   "outputs": [
    {
     "name": "stdout",
     "output_type": "stream",
     "text": [
      "First answer: \n",
      "34 letters in 'Supercalifragilisticexpialidocious'.\r\n"
     ]
    }
   ],
   "source": [
    "//my answer (question 2)\n",
    "\n",
    "//=======> 01\n",
    "string word = \"Supercalifragilisticexpialidocious\";\n",
    "int NumLetters = word.Length;\n",
    "Console.WriteLine($\"First answer: \\n{NumLetters} letters in '{word}'.\");"
   ]
  },
  {
   "cell_type": "code",
   "execution_count": 30,
   "id": "230e5dc5",
   "metadata": {
    "slideshow": {
     "slide_type": "fragment"
    }
   },
   "outputs": [
    {
     "name": "stdout",
     "output_type": "stream",
     "text": [
      "Second answer: \n",
      "Yes, the given word 'Supercalifragilisticexpialidocious' contains 'ice' as a substring.\r\n"
     ]
    }
   ],
   "source": [
    "//my answer (question 2)\n",
    "\n",
    "//=======> 02\n",
    "string LookUp = \"ice\";\n",
    "\n",
    "if (word.Contains(LookUp))\n",
    "{\n",
    "    Console.WriteLine($\"Second answer: \\nYes, the given word '{word}' contains '{LookUp}' as a substring.\");\n",
    "}\n",
    "else Console.WriteLine($\"Second answer: \\nNo, the given word '{word}' does not contain '{LookUp}' as a substring.\");     "
   ]
  },
  {
   "cell_type": "code",
   "execution_count": 31,
   "id": "ed4909e5",
   "metadata": {
    "slideshow": {
     "slide_type": "subslide"
    }
   },
   "outputs": [
    {
     "name": "stdout",
     "output_type": "stream",
     "text": [
      "Third answer: \n",
      "'Supercalifragilisticexpialidocious' and 'Bababadalgharaghtakamminarronnkonn' have the same length with 34 letters each one, which is more than the second word. So both are the longest words\r\n"
     ]
    }
   ],
   "source": [
    "//my answer (question 2)\n",
    "\n",
    "//=======> 03\n",
    "\n",
    "string w1 = \"Supercalifragilisticexpialidocious\";\n",
    "string w2 = \"Honorificabilitudinitatibus\";\n",
    "string w3 = \"Bababadalgharaghtakamminarronnkonn\";\n",
    "\n",
    "int wc1 = w1.Length;\n",
    "int wc2 = w2.Length;\n",
    "int wc3 = w3.Length;\n",
    "\n",
    "if (wc1>=wc2)\n",
    "{\n",
    "    if (wc1>=wc3)\n",
    "    {\n",
    "        if (wc1==wc2)\n",
    "        {\n",
    "            Console.WriteLine($\"Third answer: \\n'{w1}' and '{w2}' have the same length with {wc1} letters each one, which is more than the last word. So both are the longest words\");\n",
    "        }\n",
    "        else\n",
    "        {\n",
    "            if (wc1==wc3)\n",
    "            {        \n",
    "                Console.WriteLine($\"Third answer: \\n'{w1}' and '{w3}' have the same length with {wc1} letters each one, which is more than the second word. So both are the longest words\");\n",
    "            }\n",
    "            else\n",
    "            {\n",
    "                Console.WriteLine($\"Third answer: \\n'{w1}' is the longest word with {wc1} letters.\");\n",
    "            }\n",
    "        }\n",
    "    }\n",
    "    else\n",
    "    {\n",
    "        Console.WriteLine($\"Third answer: \\n'{w3}' is the longest word with {wc3} letters.\");\n",
    "    }\n",
    "}\n",
    "else\n",
    "{\n",
    "    if (wc2>=wc3)\n",
    "    {\n",
    "        if (wc2==wc3)\n",
    "        {        \n",
    "            Console.WriteLine($\"Third answer: \\n'{w2}' and '{w3}' have the same length with {wc2} letters each one, which is more than the second word. So both are the longest words\");\n",
    "        }\n",
    "        else\n",
    "        {\n",
    "            Console.WriteLine($\"Third answer: \\n'{w2}' is the longest word with {wc2} letters.\");\n",
    "        }\n",
    "    }\n",
    "    else\n",
    "   {\n",
    "        Console.WriteLine($\"Third answer: \\n'{w3}' is the longest word with {wc3} letters.\");\n",
    "   }\n",
    "}  "
   ]
  },
  {
   "cell_type": "code",
   "execution_count": 32,
   "id": "d103e9d8",
   "metadata": {
    "slideshow": {
     "slide_type": "subslide"
    }
   },
   "outputs": [
    {
     "name": "stdout",
     "output_type": "stream",
     "text": [
      "Fourth answer: \n",
      "The first in dictionary is Bartok and the last is Buxtehude.\r\n"
     ]
    }
   ],
   "source": [
    "SortedList compAsc = new SortedList();\n",
    "\n",
    "compAsc.Add(\"Berlioz\", 1);\n",
    "compAsc.Add(\"Borodin\", 2);\n",
    "compAsc.Add(\"Brian\", 3);\n",
    "compAsc.Add(\"Bartok\", 4);\n",
    "compAsc.Add(\"Bellini\", 5);\n",
    "compAsc.Add(\"Buxtehude\", 6);\n",
    "compAsc.Add(\"Bernstein\", 7);\n",
    "\n",
    "var first = compAsc.GetKey(0);\n",
    "var last = compAsc.GetKey(6);\n",
    "\n",
    "Console.WriteLine($\"Fourth answer: \\nThe first in dictionary is {first} and the last is {last}.\");\n"
   ]
  },
  {
   "cell_type": "markdown",
   "id": "78cf9d0f",
   "metadata": {
    "slideshow": {
     "slide_type": "subslide"
    }
   },
   "source": [
    "<body>\n",
    "    <h3><font color= '#0EA9A9'> Question 3 C#</font></h3>\n",
    "    <p>\n",
    "        <strong>Implement function <em>triangleArea(a,b,c)</em> that takes as input the lengths of the 3 sides of a triangle and returns the area of the triangle.</strong><br>By Heron's formula, the area of a triangle with side lengths a, b, and c is <em>square root(s(s-a)(s-b)(s-c))</em>, where <em>s=(a+b+c)/2</em>.<br>\n",
    "        <samp>\n",
    "            >>>> triangleArea(2,2,2)\n",
    "            1.7320508075688772\n",
    "        </samp>\n",
    "    </p>\n",
    "</body>"
   ]
  },
  {
   "cell_type": "code",
   "execution_count": 27,
   "id": "557cdfb7",
   "metadata": {
    "slideshow": {
     "slide_type": "subslide"
    }
   },
   "outputs": [
    {
     "name": "stdout",
     "output_type": "stream",
     "text": [
      ">>>>> triangleArea(2,2,2)\n",
      "1.7320508075688772\r\n"
     ]
    }
   ],
   "source": [
    "//my answer:\n",
    "\n",
    "public class Question3\n",
    "{\n",
    "    public double triangleArea(double a, double b, double c)\n",
    "        {\n",
    "            double s = (a + b + c) / 2;\n",
    "            double sq = s * (s - a) * (s - b) * (s - c);\n",
    "            double tArea = Math.Sqrt(sq);\n",
    "            return tArea;\n",
    "        }\n",
    "}\n",
    "\n",
    "double a = 2;\n",
    "double b = 2;\n",
    "double c = 2;\n",
    "\n",
    "Question3 answer3 = new Question3();\n",
    "var resp = answer3.triangleArea(a, b, c);\n",
    "\n",
    "Console.WriteLine($\">>>>> triangleArea({L1},{L2},{L3})\\n{resp}\");"
   ]
  },
  {
   "cell_type": "markdown",
   "id": "2063c6e6",
   "metadata": {
    "slideshow": {
     "slide_type": "slide"
    }
   },
   "source": [
    "<body>\n",
    "    <h3><font color= '#0EA9A9'> Question 4 C#</font></h3>\n",
    "    <p>\n",
    "        <strong>Write a program in C# Sharp to separate odd and even integers in separate arrays.</strong><br>\n",
    "    </p>\n",
    "    <p>\n",
    "        Go to the editor<br><br>    \n",
    "        <em>Test Data:</em><br>\n",
    "        Input the number of elements to be stored in the array: 5<br>\n",
    "        Input 5 elements in the array:<br>\n",
    "        element - 0 : 25<br>\n",
    "        element - 1 : 47<br>\n",
    "        element - 2 : 42<br>\n",
    "        element - 3 : 56<br>\n",
    "        element - 4 : 32<br><br>\n",
    "        <em>Expected Output:</em>\n",
    "        <samp>\n",
    "            The Even elements are:\n",
    "            42 56 32<br>\n",
    "            The Odd elements are:\n",
    "            25 47 \n",
    "        </samp>\n",
    "    </p>\n",
    "</body>"
   ]
  },
  {
   "cell_type": "code",
   "execution_count": 33,
   "id": "5e6f6d9b",
   "metadata": {
    "slideshow": {
     "slide_type": "subslide"
    }
   },
   "outputs": [
    {
     "name": "stdout",
     "output_type": "stream",
     "text": [
      "The Even elements are:\n",
      "42 56 32 \n",
      "\n",
      "The Odd elements are:\n",
      "25 47 "
     ]
    }
   ],
   "source": [
    "//my answer:\n",
    "\n",
    "int i;\n",
    "int e = 0;\n",
    "int o = 0;\n",
    "int n = 5;\n",
    "\n",
    "int[] arrEven = new int[n];\n",
    "int[] arrOdd = new int[n];\n",
    "int[] arrIni = {25, 47, 42, 56, 32};\n",
    "\n",
    "for (i = 0; i < n; i++)\n",
    "    if (arrIni[i]%2 == 0)\n",
    "    {\n",
    "        arrEven[e] = arrIni[i];\n",
    "        e++;\n",
    "    }\n",
    "    else\n",
    "    {\n",
    "        arrOdd[o] = arrIni[i];\n",
    "        o++;\n",
    "    }\n",
    "\n",
    "Console.WriteLine(\"The Even elements are:\");\n",
    "for (i = 0; i < e; i++)\n",
    "{\n",
    "    Console.Write(arrEven[i] + \" \");\n",
    "}\n",
    "\n",
    "Console.WriteLine(\"\\n\\nThe Odd elements are:\");\n",
    "for (i = 0; i < o; i++)\n",
    "{\n",
    "    Console.Write(arrOdd[i] + \" \");\n",
    "}"
   ]
  },
  {
   "cell_type": "markdown",
   "id": "212b667f",
   "metadata": {
    "slideshow": {
     "slide_type": "slide"
    }
   },
   "source": [
    "<body>\n",
    "    <h3><font color= '#0EA9A9'> Question 5 C#</font></h3>\n",
    "    <ol>\n",
    "        <li>Write a function <var>inside(x,y,x1,y1,x2,y2)</var> that <strong>returns</strong> True or False depending on whether the point <var>(x,y)</var> lies in the rectangle with lower left corner <var>(x1,y1)</var> and upper right corner <var>(x2,y2)</var>.<br></li>\n",
    "        <samp>            \n",
    "        >>> inside(1,1,0,0,2,3)\n",
    "        True<br>\n",
    "        >>> inside(-1,-1,0,0,2,3)\n",
    "        False\n",
    "        </samp>\n",
    "        <li>Use function <var>inside()</var> from part a. to write an expression that tests whether the point <var>(1,1)</var> lies in both of the following rectangles: one with lower left corner <var>(0.3, 0.5)</var> and upper right corner <var>(1.1, 0.7)</var> and the other with lower left corner <var>(0.5, 0.2)</var> and upper right corner <var>(1.1, 2)</var>.</li>\n",
    "    </ol>\n",
    "</body>"
   ]
  },
  {
   "cell_type": "code",
   "execution_count": 22,
   "id": "cafa77ad",
   "metadata": {
    "slideshow": {
     "slide_type": "fragment"
    }
   },
   "outputs": [
    {
     "name": "stdout",
     "output_type": "stream",
     "text": [
      ">>> inside(1,1,0,0,2,3)\n",
      "True\n",
      "\n",
      ">>> inside(-1,-1,0,0,2,3)\n",
      "False\n",
      "\n"
     ]
    }
   ],
   "source": [
    "//my answer part a:\n",
    "\n",
    "public class Question5\n",
    "{\n",
    "\n",
    "    public bool inside(double x, double y, double x1, double y1, double x2, double y2)\n",
    "    {\n",
    "        if (x > x1 & x < x2 & y > y1 & y < y2)\n",
    "            return true;\n",
    "\n",
    "        return false;\n",
    "    }\n",
    "}\n",
    "\n",
    "Question5 answer = new Question5();\n",
    "\n",
    "if (answer.inside(1, 1, 0, 0, 2, 3))\n",
    "{\n",
    "    Console.WriteLine(\">>> inside(1,1,0,0,2,3)\\nTrue\\n\");\n",
    "}\n",
    "else\n",
    "{\n",
    "    Console.WriteLine(\">>> inside(1,1,0,0,2,3)\\nFalse\\n\");\n",
    "}\n",
    "\n",
    "if (answer.inside(-1, -1, 0, 0, 2, 3))\n",
    "{\n",
    "    Console.WriteLine(\">>> inside(-1,-1,0,0,2,3)\\nTrue\\n\");\n",
    "}\n",
    "else\n",
    "{\n",
    "    Console.WriteLine(\">>> inside(-1,-1,0,0,2,3)\\nFalse\\n\");\n",
    "}"
   ]
  },
  {
   "cell_type": "code",
   "execution_count": 23,
   "id": "d5f0b997",
   "metadata": {
    "slideshow": {
     "slide_type": "fragment"
    }
   },
   "outputs": [
    {
     "name": "stdout",
     "output_type": "stream",
     "text": [
      "First rectangle => False\n",
      "\n",
      "Second rectangle => True\n",
      "\n",
      "\n"
     ]
    }
   ],
   "source": [
    "//my answer part b:\n",
    "\n",
    "Question5 answerb = new Question5();\n",
    "\n",
    "double px1 = 1;\n",
    "double py1 = 1;\n",
    "\n",
    "double rect1x1 = 0.3;\n",
    "double rect1y1 = 0.5;\n",
    "double rect1x2 = 1.1;\n",
    "double rect1y2 = 0.7;\n",
    "\n",
    "double rect2x1 = 0.5;\n",
    "double rect2y1 = 0.2;\n",
    "double rect2x2 = 1.1;\n",
    "double rect2y2 = 2;\n",
    "\n",
    "if (answerb.inside(px1, py1, rect1x1, rect1y1, rect1x2, rect1y2))\n",
    "{\n",
    "    Console.WriteLine(\"First rectangle => True\\n\");\n",
    "}\n",
    "else\n",
    "{\n",
    "    Console.WriteLine(\"First rectangle => False\\n\");\n",
    "}\n",
    "\n",
    "if (answer.inside(px1, py1, rect2x1, rect2y1, rect2x2, rect2y2))\n",
    "{\n",
    "    Console.WriteLine(\"Second rectangle => True\\n\\n\");\n",
    "}\n",
    "else\n",
    "{\n",
    "    Console.WriteLine(\"Second rectangle => \\nFalse\");\n",
    "}\n"
   ]
  }
 ],
 "metadata": {
  "celltoolbar": "Slideshow",
  "kernelspec": {
   "display_name": ".NET (C#)",
   "language": "C#",
   "name": ".net-csharp"
  },
  "language_info": {
   "file_extension": ".cs",
   "mimetype": "text/x-csharp",
   "name": "C#",
   "pygments_lexer": "csharp",
   "version": "11.0"
  }
 },
 "nbformat": 4,
 "nbformat_minor": 5
}
