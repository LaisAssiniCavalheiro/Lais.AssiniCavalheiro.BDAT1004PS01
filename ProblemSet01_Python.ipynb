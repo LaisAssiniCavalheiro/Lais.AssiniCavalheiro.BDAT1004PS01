{
 "cells": [
  {
   "cell_type": "markdown",
   "id": "0adf8085",
   "metadata": {
    "slideshow": {
     "slide_type": "slide"
    }
   },
   "source": [
    "<body>\n",
    "    <h1><font color='#DD8300'><center>BDAT 1004 - Problem Set 1</center></font></h1>\n",
    "    <p>\n",
    "        <strong>Student:</strong> Lais Assini Cavalheiro<br>\n",
    "        <strong>Student ID:</strong> 20558473<br><br>\n",
    "        <em>Note: Here you have only the Python questions. The C# part is in another notebook.</em>\n",
    "    </p>\n",
    "</body>"
   ]
  },
  {
   "cell_type": "markdown",
   "id": "6ba9e8ff",
   "metadata": {
    "slideshow": {
     "slide_type": "subslide"
    }
   },
   "source": [
    "<body>\n",
    "    <h3><font color='#DD8300'>Question 6 Python</font></h3>\n",
    "    <p><b>You can turn a word into pig-Latin using the following two rules (simplified):</b></p>\n",
    "    <ul>\n",
    "        <li>If the word starts with a consonant, move that letter to the end and append 'ay'. For example, 'happy' becomes 'appyhay' and 'pencil' becomes 'encilpay'.</li>\n",
    "        <li>If the word starts with a vowel, simply append 'way' to the end of the word. For example, 'enter' becomes 'enterway' and 'other' becomes 'otherway' . For our purposes, there are 5 vowels: a, e, i, o, u (so we count y as a consonant).</li>\n",
    "    </ul>\n",
    "    <p>\n",
    "        Write a function <var>pig()</var> that takes a word (i.e., a string) as input and returns its pigLatin form. Your function should still work if the input word contains upper case characters. Your output should always be lower case however.<br><br>\n",
    "        <samp>\n",
    "            >>> pig('happy')\n",
    "            'appyhay'<br>\n",
    "            >>> pig('Enter')\n",
    "            'enterway'\n",
    "        </samp>\n",
    "    </p>\n",
    "</body>"
   ]
  },
  {
   "cell_type": "code",
   "execution_count": 104,
   "id": "e63f8586",
   "metadata": {
    "slideshow": {
     "slide_type": "fragment"
    }
   },
   "outputs": [
    {
     "name": "stdout",
     "output_type": "stream",
     "text": [
      "pigLatin is appyhay\n",
      "pigLatin is enterway\n"
     ]
    }
   ],
   "source": [
    "#my answer question 6 - part 01\n",
    "\n",
    "def pig(word):\n",
    " \n",
    "    word = word.lower()\n",
    "    apV = 'ay'\n",
    "    apC = 'way'\n",
    "    vowels = ('a','e','i','o','u')\n",
    "    FLetter = str(word[0])\n",
    "    n = len(word)\n",
    "\n",
    "    if FLetter in vowels:\n",
    "        print(\"pigLatin is \"+str(word+apC))\n",
    "    else:\n",
    "        print(\"pigLatin is \"+str(word[1:n]+FLetter+apV))\n",
    "\n",
    "\n",
    "\n",
    "pig('happy')\n",
    "pig('Enter')\n",
    "            \n",
    "    "
   ]
  },
  {
   "cell_type": "code",
   "execution_count": 48,
   "id": "b511e4c6",
   "metadata": {
    "slideshow": {
     "slide_type": "fragment"
    }
   },
   "outputs": [
    {
     "name": "stdout",
     "output_type": "stream",
     "text": [
      "Enter an word to see its pigLatin version: Wine\n",
      "pigLatin is ineway\n"
     ]
    }
   ],
   "source": [
    "#my answer question 6 - part 02\n",
    "\n",
    "x = input('Enter an word to see its pigLatin version: ')\n",
    "\n",
    "pig(x)"
   ]
  },
  {
   "cell_type": "markdown",
   "id": "5e1604f6",
   "metadata": {
    "slideshow": {
     "slide_type": "slide"
    }
   },
   "source": [
    "<body>\n",
    "    <h3><font color='#DD8300'>Question 7 Python</font></h3>\n",
    "    <p>\n",
    "        <b>File <u>bloodtype1.txt</u> records blood-types of patients (A, B, AB, O or OO) at a clinic.</b><br>\n",
    "        Write a function <var>bldcount()</var> that reads the file with name <var>name</var> and reports (i.e., prints) how many patients there are in each bloodtype.\n",
    "    </p>\n",
    "    <samp>\n",
    "        >>> bldcount('bloodtype.txt')\n",
    "        There are 10 patients of blood type A.\n",
    "        There is one patient of blood type B.\n",
    "        There are 10 patients of blood type AB.\n",
    "        There are 12 patients of blood type O.\n",
    "        There are no patients of blood type OO. \n",
    "    </samp>\n",
    "</body>"
   ]
  },
  {
   "cell_type": "code",
   "execution_count": 3,
   "id": "e44d8d15",
   "metadata": {
    "scrolled": true,
    "slideshow": {
     "slide_type": "subslide"
    }
   },
   "outputs": [
    {
     "name": "stdout",
     "output_type": "stream",
     "text": [
      "There are 15 patients of blood type A.\n",
      "There is one patient of blood type B.\n",
      "There are 15 patients of blood type O.\n",
      "There are 13 patients of blood type AB.\n",
      "There are no patients of blood type OO\n"
     ]
    }
   ],
   "source": [
    "#my answer\n",
    "\n",
    "def bldcount(name):\n",
    "    try:\n",
    "        infile = open(name)\n",
    "        strBlood = infile.readline()\n",
    "        TypeAB = strBlood.count('AB')\n",
    "        TypeOO = strBlood.count('OO')\n",
    "        TypeB = strBlood.count('B')-TypeAB\n",
    "        TypeA = strBlood.count('A')-TypeAB\n",
    "        TypeO = strBlood.count('O')-TypeOO\n",
    "        \n",
    "        if(TypeA==0):\n",
    "            print('There are no patients of blood type A')\n",
    "        elif(TypeA==1):\n",
    "            print('There is one patient of blood type A.')\n",
    "        else:\n",
    "            print('There are', TypeA, 'patients of blood type A.')\n",
    "\n",
    "        if(TypeB==0):\n",
    "            print('There are no patients of blood type B')\n",
    "        elif(TypeB==1):\n",
    "            print('There is one patient of blood type B.')\n",
    "        else:\n",
    "            print('There are', TypeB, 'patients of blood type B.')   \n",
    "       \n",
    "        if(TypeO==0):\n",
    "            print('There are no patients of blood type O')\n",
    "        elif(TypeO==1):\n",
    "            print('There is one patient of blood type O.')\n",
    "        else:\n",
    "            print('There are', TypeO, 'patients of blood type O.')\n",
    "\n",
    "        if(TypeAB==0):\n",
    "            print('There are no patients of blood type AB')\n",
    "        elif(TypeAB==1):\n",
    "            print('There is one patient of blood type AB.')\n",
    "        else:\n",
    "            print('There are', TypeAB, 'patients of blood type AB.')\n",
    "         \n",
    "        if(TypeOO==0):\n",
    "            print('There are no patients of blood type OO')\n",
    "        elif(TypeOO==1):\n",
    "            print('There is one patient of blood type OO.')\n",
    "        else:\n",
    "            print('There are', TypeOO, 'patients of blood type OO.')            \n",
    "\n",
    "    except ValueError:\n",
    "        print('Ooop, something went wrong.')\n",
    "\n",
    "bldcount('bloodtype1.txt')\n"
   ]
  },
  {
   "cell_type": "markdown",
   "id": "b481e57c",
   "metadata": {
    "slideshow": {
     "slide_type": "slide"
    }
   },
   "source": [
    "<body>\n",
    "    <h3><font color='#DD8300'>Question 8 Python</font></h3>\n",
    "    <p>\n",
    "        <b>Write a function <var>curconv()</var> that takes as input:</b><br>        \n",
    "    </p>\n",
    "    <ol>\n",
    "        <li>a currency represented using a string (e.g., 'JPY' for the Japanese Yen or 'EUR' for the Euro).</li>\n",
    "        <li>an amount</li>\n",
    "    </ol>\n",
    "    <p>\n",
    "        and then converts and returns the amount in US dollars.\n",
    "    </p>    \n",
    "    <samp>\n",
    "        >>> curconv('EUR', 100)\n",
    "        122.96544<br>\n",
    "        >>> curconv('JPY', 100)\n",
    "        1.241401  \n",
    "    </samp>\n",
    "    <p>\n",
    "        The currency rates you will need are stored in file <u>currencies.txt</u>:\n",
    "    </p><br>\n",
    "        <samp><table>\n",
    "        <tr>\n",
    "            <td>AUD</td>\n",
    "            <td>1.0345157</td>\n",
    "            <td>Australian Dollar</td>\n",
    "        </tr>\n",
    "        <tr>\n",
    "            <td>CHF</td>\n",
    "            <td>1.0237414</td>\n",
    "            <td>Swiss Franc</td>\n",
    "        </tr>\n",
    "        <tr>\n",
    "            <td>CNY</td>\n",
    "            <td>0.1550176</td>\n",
    "            <td>Chinese Yuan</td>\n",
    "        </tr>\n",
    "        <tr>\n",
    "            <td>DKK</td>\n",
    "            <td>0.1651442</td>\n",
    "            <td>Danish Krone</td>\n",
    "        </tr>\n",
    "        <tr>\n",
    "            <td>EUR</td>\n",
    "            <td>1.2296544</td>\n",
    "            <td>Euro</td>\n",
    "        </tr>\n",
    "        <tr>\n",
    "            <td>GBP</td>\n",
    "            <td>1.5550989</td>\n",
    "            <td>British Pound</td>\n",
    "        </tr>\n",
    "        <tr>\n",
    "            <td>HKD</td>\n",
    "            <td>0.1270207</td>\n",
    "            <td>Hong Kong Dollar</td>\n",
    "        </tr>\n",
    "        <tr>\n",
    "            <td>INR</td>\n",
    "            <td>0.0177643</td>\n",
    "            <td>Indian Rupee</td>\n",
    "        </tr>\n",
    "        <tr>\n",
    "            <td>JPY</td>\n",
    "            <td>0.01241401</td>\n",
    "            <td>Japanese Yen</td>\n",
    "        </tr>\n",
    "        <tr>\n",
    "            <td>MXN</td>\n",
    "            <td>0.0751848</td>\n",
    "            <td>Mexican Peso </td>\n",
    "        </tr>\n",
    "        <tr>\n",
    "            <td>MYR</td>\n",
    "            <td>0.3145411</td>\n",
    "            <td>Malaysian Ringgit</td>\n",
    "            </tr>\n",
    "        <tr>\n",
    "            <td>NOK</td>\n",
    "            <td>0.1677063</td>\n",
    "            <td>Norwegian Krone</td>\n",
    "        </tr>\n",
    "        <tr>\n",
    "            <td>NZD</td>\n",
    "            <td>0.8003591</td>\n",
    "            <td>New Zealand Dollar</td>\n",
    "        </tr>\n",
    "        <tr>\n",
    "            <td>PHP</td>\n",
    "            <td>0.0233234</td>\n",
    "            <td>Philippine Peso</td>\n",
    "        </tr>\n",
    "        <tr>\n",
    "            <td>SEK</td>\n",
    "            <td>0.148269</td>\n",
    "            <td>Swedish Krona</td>\n",
    "        </tr>\n",
    "        <tr>\n",
    "            <td>SGD</td>\n",
    "            <td>0.788871</td>\n",
    "            <td>Singapore Dollar</td>\n",
    "        </tr>\n",
    "        <tr>\n",
    "            <td>THB</td>\n",
    "            <td>0.0313789</td>\n",
    "            <td>Thai Baht</td>\n",
    "        </tr>                                                       \n",
    "        </table></samp>\n",
    "</body>"
   ]
  },
  {
   "cell_type": "code",
   "execution_count": 53,
   "id": "6f2f949c",
   "metadata": {
    "slideshow": {
     "slide_type": "subslide"
    }
   },
   "outputs": [
    {
     "name": "stdout",
     "output_type": "stream",
     "text": [
      "The actual currency exchange for EUR ( Euro ) is 1.2296544 .\n",
      "Your total amount is 122.96544\n",
      "\n",
      "The actual currency exchange for JPY ( Japanese Yen ) is 0.01241401 .\n",
      "Your total amount is 1.241401\n",
      "\n"
     ]
    }
   ],
   "source": [
    "#my answer\n",
    "\n",
    "def curconv(strSigla, intAmount):\n",
    "    with open('currencies.txt', 'r') as infile:\n",
    "       strCurrency = infile.readlines()\n",
    "\n",
    "       sigla = []\n",
    "       currency = []\n",
    "       fullName = []\n",
    "\n",
    "       for line in strCurrency:\n",
    "           as_list = line.split('\\t')\n",
    "           sigla.append(as_list[0])\n",
    "           currency.append(as_list[1])\n",
    "           fullName.append(as_list[2].replace(\"\\n\", \"\"))\n",
    "    \n",
    "    indSigla = sigla.index(strSigla)\n",
    "    \n",
    "    factor = currency.__getitem__(indSigla)\n",
    "    currencyFullName = fullName.__getitem__(indSigla)\n",
    "\n",
    "    print('The actual currency exchange for', strSigla, '(',currencyFullName,')', 'is', factor,'.')\n",
    "\n",
    "\n",
    "    dysp = float(intAmount)*float(factor)\n",
    "\n",
    "    print('Your total amount is',dysp)\n",
    "    print()\n",
    "\n",
    "\n",
    "curconv('EUR', 100)\n",
    "\n",
    "curconv('JPY', 100)"
   ]
  },
  {
   "cell_type": "markdown",
   "id": "b7abdc88",
   "metadata": {
    "slideshow": {
     "slide_type": "slide"
    }
   },
   "source": [
    "<body>\n",
    "    <h3><font color='#DD8300'>Question 9 Python</font></h3>\n",
    "    <p>\n",
    "        <b>Each of the following will cause an exception (an error). Identify what type of exception each will cause.</b><br><br>\n",
    "        Trying to add incompatible variables, as in adding <var>6 + ‘a’</var>.<br>\n",
    "        <font color= '#0EA9A9'><ins>>>> <b>TypeError:</b> unsupported operand type(s) for +: 'int' and 'str'</ins></font>\n",
    "        <br><br>\n",
    "        Referring to the 12<sup>th</sup> item of a list that has only 10 items.<br>\n",
    "        <font color= '#0EA9A9'><ins>>>> <b>IndexError:</b> list index out of range</ins></font>\n",
    "        <br><br>\n",
    "        Using a value that is out of range for a function’s input, such as calling <var>math.sqrt(-1.0)</var>.<br>\n",
    "        <font color= '#0EA9A9'><ins>>>> <b>NameError:</b> name 'math' is not defined</ins></font>\n",
    "        <br><br>\n",
    "        Using an undeclared variable, such as <var>print(x)</var> when <var>x</var> has not been defined.<br>\n",
    "        <font color= '#0EA9A9'><ins>>>> <b>NameError:</b> name 'p' is not defined</ins></font>\n",
    "        <br><br>\n",
    "        Trying to open a file that does not exist, such as mistyping the file name or looking in the wrong directory.<br>\n",
    "        <font color= '#0EA9A9'><ins>>>> <b>FileNotFoundError:</b> [Errno 2] No such file or directory: 'sample.txt'</ins></font>\n",
    "    </p>\n",
    "</body>\n",
    "        "
   ]
  },
  {
   "cell_type": "code",
   "execution_count": 69,
   "id": "9373aa08",
   "metadata": {
    "slideshow": {
     "slide_type": "subslide"
    }
   },
   "outputs": [
    {
     "ename": "FileNotFoundError",
     "evalue": "[Errno 2] No such file or directory: 'sample.txt'",
     "output_type": "error",
     "traceback": [
      "\u001b[1;31m---------------------------------------------------------------------------\u001b[0m",
      "\u001b[1;31mFileNotFoundError\u001b[0m                         Traceback (most recent call last)",
      "Cell \u001b[1;32mIn[69], line 12\u001b[0m\n\u001b[0;32m      1\u001b[0m \u001b[38;5;66;03m#my answer\u001b[39;00m\n\u001b[0;32m      2\u001b[0m \n\u001b[0;32m      3\u001b[0m \u001b[38;5;66;03m#6 + 'a'\u001b[39;00m\n\u001b[1;32m   (...)\u001b[0m\n\u001b[0;32m      9\u001b[0m \n\u001b[0;32m     10\u001b[0m \u001b[38;5;66;03m# print(p)\u001b[39;00m\n\u001b[1;32m---> 12\u001b[0m infile \u001b[38;5;241m=\u001b[39m \u001b[38;5;28;43mopen\u001b[39;49m\u001b[43m(\u001b[49m\u001b[38;5;124;43m'\u001b[39;49m\u001b[38;5;124;43msample.txt\u001b[39;49m\u001b[38;5;124;43m'\u001b[39;49m\u001b[43m)\u001b[49m\n",
      "File \u001b[1;32m~\\anaconda3\\lib\\site-packages\\IPython\\core\\interactiveshell.py:282\u001b[0m, in \u001b[0;36m_modified_open\u001b[1;34m(file, *args, **kwargs)\u001b[0m\n\u001b[0;32m    275\u001b[0m \u001b[38;5;28;01mif\u001b[39;00m file \u001b[38;5;129;01min\u001b[39;00m {\u001b[38;5;241m0\u001b[39m, \u001b[38;5;241m1\u001b[39m, \u001b[38;5;241m2\u001b[39m}:\n\u001b[0;32m    276\u001b[0m     \u001b[38;5;28;01mraise\u001b[39;00m \u001b[38;5;167;01mValueError\u001b[39;00m(\n\u001b[0;32m    277\u001b[0m         \u001b[38;5;124mf\u001b[39m\u001b[38;5;124m\"\u001b[39m\u001b[38;5;124mIPython won\u001b[39m\u001b[38;5;124m'\u001b[39m\u001b[38;5;124mt let you open fd=\u001b[39m\u001b[38;5;132;01m{\u001b[39;00mfile\u001b[38;5;132;01m}\u001b[39;00m\u001b[38;5;124m by default \u001b[39m\u001b[38;5;124m\"\u001b[39m\n\u001b[0;32m    278\u001b[0m         \u001b[38;5;124m\"\u001b[39m\u001b[38;5;124mas it is likely to crash IPython. If you know what you are doing, \u001b[39m\u001b[38;5;124m\"\u001b[39m\n\u001b[0;32m    279\u001b[0m         \u001b[38;5;124m\"\u001b[39m\u001b[38;5;124myou can use builtins\u001b[39m\u001b[38;5;124m'\u001b[39m\u001b[38;5;124m open.\u001b[39m\u001b[38;5;124m\"\u001b[39m\n\u001b[0;32m    280\u001b[0m     )\n\u001b[1;32m--> 282\u001b[0m \u001b[38;5;28;01mreturn\u001b[39;00m io_open(file, \u001b[38;5;241m*\u001b[39margs, \u001b[38;5;241m*\u001b[39m\u001b[38;5;241m*\u001b[39mkwargs)\n",
      "\u001b[1;31mFileNotFoundError\u001b[0m: [Errno 2] No such file or directory: 'sample.txt'"
     ]
    }
   ],
   "source": [
    "#my answer\n",
    "\n",
    "#6 + 'a'\n",
    "\n",
    "# myList = ['gato','cachorro','panda','passarinho','elefante','leao','girafa','lagarto','dinossauro','cavalo']\n",
    "# print(myList[10])\n",
    "\n",
    "# math.sqrt(-1.0)\n",
    "\n",
    "# print(p)\n",
    "\n",
    "infile = open('sample.txt')"
   ]
  },
  {
   "cell_type": "markdown",
   "id": "47fdd6de",
   "metadata": {
    "slideshow": {
     "slide_type": "slide"
    }
   },
   "source": [
    "<body>\n",
    "    <h3><font color='#DD8300'>Question 10 Python</font></h3>\n",
    "    <p><dfn>Encryption</dfn> is the process of hiding the meaning of a text by substituting letters in the message with other letters, according to some system. If the process is successful, no one but the intended recipient can understand the encrypted message.</p>\n",
    "    <p><dfn>Cryptanalysis</dfn> refers to attempts to undo the encryption, even if some details of the encryption are unknown (for example, if an encrypted message has been intercepted). The first step of cryptanalysis is often to build up a table of letter frequencies in the encrypted text.</p>\n",
    "    <p>Assume that the string letters is already defined as <var>'abcdefghijklmnopqrstuvwxyz'</var>. Write a function called <var>frequencies()</var> that takes a string as its only parameter, and returns a list of integers, showing the number of times each character appears in the text. Your function may ignore any characters that are not in letters.</p>\n",
    "    <samp>\n",
    "        >>> frequencies('The quick red fox got bored and went home.')\n",
    "        [1, 1, 1, 3, 5, 1, 1, 2, 1, 0, 1, 0, 1, 2, 4, 0, 1, 2, 0, 2, 1, 0, 1, 1, 0, 0]<br>\n",
    "        >>> frequencies('apple') \n",
    "    </samp>\n",
    "</body>"
   ]
  },
  {
   "cell_type": "code",
   "execution_count": 52,
   "id": "c0896b42",
   "metadata": {
    "slideshow": {
     "slide_type": "subslide"
    }
   },
   "outputs": [
    {
     "name": "stdout",
     "output_type": "stream",
     "text": [
      "\n",
      "Letting all strings in its original case:\n",
      "\n",
      ">>> frequencies('The quick red fox got bored and went home.')\n",
      "[1, 1, 1, 3, 5, 1, 1, 2, 1, 0, 1, 0, 1, 2, 4, 0, 1, 2, 0, 2, 1, 0, 1, 1, 0, 0]\n",
      "\n",
      ">>> frequencies('apple')\n",
      "[1, 0, 0, 0, 1, 0, 0, 0, 0, 0, 0, 1, 0, 0, 0, 2, 0, 0, 0, 0, 0, 0, 0, 0, 0, 0]\n",
      "\n",
      "===================\n",
      "\n",
      "Transforming all strings into lower case:\n",
      "\n",
      ">>> frequencies('The quick red fox got bored and went home.')\n",
      "[1, 1, 1, 3, 5, 1, 1, 2, 1, 0, 1, 0, 1, 2, 4, 0, 1, 2, 0, 3, 1, 0, 1, 1, 0, 0]\n",
      "\n",
      ">>> frequencies('apple')\n",
      "[1, 0, 0, 0, 1, 0, 0, 0, 0, 0, 0, 1, 0, 0, 0, 2, 0, 0, 0, 0, 0, 0, 0, 0, 0, 0]\n"
     ]
    }
   ],
   "source": [
    "def frequencies(text):\n",
    "    letters = 'abcdefghijklmnopqrstuvwxyz'\n",
    "    freqList = [0] * len(letters)\n",
    "\n",
    "    for i in text:\n",
    "        if i in letters:\n",
    "            index = letters.index(i)\n",
    "            freqList[index] += 1 \n",
    "    return freqList\n",
    "\n",
    "print('\\nLetting all strings in its original case:\\n')\n",
    "\n",
    "print(\">>> frequencies('The quick red fox got bored and went home.')\")\n",
    "print(frequencies(\"The quick red fox got bored and went home.\\n\" ))\n",
    "\n",
    "print(\"\\n>>> frequencies('apple')\")\n",
    "print(frequencies(\"apple\"))\n",
    "print('\\n===================\\n')\n",
    "\n",
    "def frequencies(text):\n",
    "    letters = 'abcdefghijklmnopqrstuvwxyz'\n",
    "    freqList = [0] * len(letters)\n",
    "\n",
    "    for i in text.lower():\n",
    "        if i in letters:\n",
    "            index = letters.index(i)\n",
    "            freqList[index] += 1 \n",
    "    return freqList\n",
    "\n",
    "print('Transforming all strings into lower case:\\n')\n",
    "print(\">>> frequencies('The quick red fox got bored and went home.')\")\n",
    "print(frequencies(\"The quick red fox got bored and went home.\\n\" ))\n",
    "\n",
    "print(\"\\n>>> frequencies('apple')\")\n",
    "print(frequencies(\"apple\"))"
   ]
  },
  {
   "cell_type": "code",
   "execution_count": null,
   "id": "844e19cf",
   "metadata": {},
   "outputs": [],
   "source": []
  }
 ],
 "metadata": {
  "celltoolbar": "Slideshow",
  "kernelspec": {
   "display_name": "Python 3 (ipykernel)",
   "language": "python",
   "name": "python3"
  },
  "language_info": {
   "codemirror_mode": {
    "name": "ipython",
    "version": 3
   },
   "file_extension": ".py",
   "mimetype": "text/x-python",
   "name": "python",
   "nbconvert_exporter": "python",
   "pygments_lexer": "ipython3",
   "version": "3.10.9"
  }
 },
 "nbformat": 4,
 "nbformat_minor": 5
}
